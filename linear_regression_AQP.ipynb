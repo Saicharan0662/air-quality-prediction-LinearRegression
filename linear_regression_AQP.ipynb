{
  "nbformat": 4,
  "nbformat_minor": 0,
  "metadata": {
    "colab": {
      "provenance": []
    },
    "kernelspec": {
      "name": "python3",
      "display_name": "Python 3"
    },
    "language_info": {
      "name": "python"
    }
  },
  "cells": [
    {
      "cell_type": "code",
      "execution_count": null,
      "metadata": {
        "colab": {
          "base_uri": "https://localhost:8080/"
        },
        "id": "25uXcPf6UG8i",
        "outputId": "bf393912-7c6f-4464-870b-3136f90fb82e"
      },
      "outputs": [
        {
          "output_type": "stream",
          "name": "stdout",
          "text": [
            "Looking in indexes: https://pypi.org/simple, https://us-python.pkg.dev/colab-wheels/public/simple/\n",
            "Requirement already satisfied: pandas in /usr/local/lib/python3.9/dist-packages (1.5.3)\n",
            "Requirement already satisfied: numpy>=1.20.3 in /usr/local/lib/python3.9/dist-packages (from pandas) (1.22.4)\n",
            "Requirement already satisfied: pytz>=2020.1 in /usr/local/lib/python3.9/dist-packages (from pandas) (2022.7.1)\n",
            "Requirement already satisfied: python-dateutil>=2.8.1 in /usr/local/lib/python3.9/dist-packages (from pandas) (2.8.2)\n",
            "Requirement already satisfied: six>=1.5 in /usr/local/lib/python3.9/dist-packages (from python-dateutil>=2.8.1->pandas) (1.16.0)\n",
            "Looking in indexes: https://pypi.org/simple, https://us-python.pkg.dev/colab-wheels/public/simple/\n",
            "Collecting sklearn\n",
            "  Using cached sklearn-0.0.post4.tar.gz (3.6 kB)\n",
            "  \u001b[1;31merror\u001b[0m: \u001b[1msubprocess-exited-with-error\u001b[0m\n",
            "  \n",
            "  \u001b[31m×\u001b[0m \u001b[32mpython setup.py egg_info\u001b[0m did not run successfully.\n",
            "  \u001b[31m│\u001b[0m exit code: \u001b[1;36m1\u001b[0m\n",
            "  \u001b[31m╰─>\u001b[0m See above for output.\n",
            "  \n",
            "  \u001b[1;35mnote\u001b[0m: This error originates from a subprocess, and is likely not a problem with pip.\n",
            "  Preparing metadata (setup.py) ... \u001b[?25l\u001b[?25herror\n",
            "\u001b[1;31merror\u001b[0m: \u001b[1mmetadata-generation-failed\u001b[0m\n",
            "\n",
            "\u001b[31m×\u001b[0m Encountered error while generating package metadata.\n",
            "\u001b[31m╰─>\u001b[0m See above for output.\n",
            "\n",
            "\u001b[1;35mnote\u001b[0m: This is an issue with the package mentioned above, not pip.\n",
            "\u001b[1;36mhint\u001b[0m: See above for details.\n",
            "Looking in indexes: https://pypi.org/simple, https://us-python.pkg.dev/colab-wheels/public/simple/\n",
            "Requirement already satisfied: numpy in /usr/local/lib/python3.9/dist-packages (1.22.4)\n",
            "Looking in indexes: https://pypi.org/simple, https://us-python.pkg.dev/colab-wheels/public/simple/\n",
            "Requirement already satisfied: matplotlib in /usr/local/lib/python3.9/dist-packages (3.7.1)\n",
            "Requirement already satisfied: numpy>=1.20 in /usr/local/lib/python3.9/dist-packages (from matplotlib) (1.22.4)\n",
            "Requirement already satisfied: packaging>=20.0 in /usr/local/lib/python3.9/dist-packages (from matplotlib) (23.0)\n",
            "Requirement already satisfied: contourpy>=1.0.1 in /usr/local/lib/python3.9/dist-packages (from matplotlib) (1.0.7)\n",
            "Requirement already satisfied: importlib-resources>=3.2.0 in /usr/local/lib/python3.9/dist-packages (from matplotlib) (5.12.0)\n",
            "Requirement already satisfied: python-dateutil>=2.7 in /usr/local/lib/python3.9/dist-packages (from matplotlib) (2.8.2)\n",
            "Requirement already satisfied: kiwisolver>=1.0.1 in /usr/local/lib/python3.9/dist-packages (from matplotlib) (1.4.4)\n",
            "Requirement already satisfied: fonttools>=4.22.0 in /usr/local/lib/python3.9/dist-packages (from matplotlib) (4.39.3)\n",
            "Requirement already satisfied: pyparsing>=2.3.1 in /usr/local/lib/python3.9/dist-packages (from matplotlib) (3.0.9)\n",
            "Requirement already satisfied: pillow>=6.2.0 in /usr/local/lib/python3.9/dist-packages (from matplotlib) (8.4.0)\n",
            "Requirement already satisfied: cycler>=0.10 in /usr/local/lib/python3.9/dist-packages (from matplotlib) (0.11.0)\n",
            "Requirement already satisfied: zipp>=3.1.0 in /usr/local/lib/python3.9/dist-packages (from importlib-resources>=3.2.0->matplotlib) (3.15.0)\n",
            "Requirement already satisfied: six>=1.5 in /usr/local/lib/python3.9/dist-packages (from python-dateutil>=2.7->matplotlib) (1.16.0)\n"
          ]
        }
      ],
      "source": [
        "!pip install pandas\n",
        "!pip install sklearn\n",
        "!pip install numpy\n",
        "!pip install matplotlib"
      ]
    },
    {
      "cell_type": "code",
      "source": [
        "import pandas as pd\n",
        "import numpy as np\n",
        "from sklearn.model_selection import train_test_split\n",
        "from sklearn.linear_model import LinearRegression\n",
        "from matplotlib import pyplot as plt"
      ],
      "metadata": {
        "id": "aFHHptjQUWre"
      },
      "execution_count": null,
      "outputs": []
    },
    {
      "cell_type": "code",
      "source": [
        "csv_filename=\"AirQualityUCI.csv\"\n",
        "df=pd.read_csv(csv_filename, sep=\";\" , parse_dates= ['Date','Time'])"
      ],
      "metadata": {
        "colab": {
          "base_uri": "https://localhost:8080/"
        },
        "id": "unMgW5yVUXMs",
        "outputId": "0cebc563-aaad-43f6-8dc1-6cc9b60f91bc"
      },
      "execution_count": null,
      "outputs": [
        {
          "output_type": "stream",
          "name": "stderr",
          "text": [
            "<ipython-input-3-37171da40617>:2: UserWarning: Parsing dates in DD/MM/YYYY format when dayfirst=False (the default) was specified. This may lead to inconsistently parsed dates! Specify a format to ensure consistent parsing.\n",
            "  df=pd.read_csv(csv_filename, sep=\";\" , parse_dates= ['Date','Time'])\n"
          ]
        }
      ]
    },
    {
      "cell_type": "code",
      "source": [
        "df.dropna(how=\"all\",axis=1,inplace=True)\n",
        "df.dropna(how=\"all\",axis=0,inplace=True)"
      ],
      "metadata": {
        "id": "FrKZh-AKUa2c"
      },
      "execution_count": null,
      "outputs": []
    },
    {
      "cell_type": "code",
      "source": [
        "cols = list(df.columns[2:]) # every column except first two - removing date and time\n",
        "for col in cols:\n",
        "    if df[col].dtype != 'float64':\n",
        "        str_x = pd.Series(df[col]).str.replace(',','.')\n",
        "        float_X = []\n",
        "        for value in str_x.values:\n",
        "            fv = float(value)\n",
        "            float_X.append(fv)\n",
        "\n",
        "            df[col] = pd.DataFrame(float_X)\n",
        "\n",
        "df.head()\n",
        "print(df.shape)"
      ],
      "metadata": {
        "colab": {
          "base_uri": "https://localhost:8080/"
        },
        "id": "680N7RKvUl3R",
        "outputId": "bc531e70-c05b-44dd-9d7a-56e7fbd10eec"
      },
      "execution_count": null,
      "outputs": [
        {
          "output_type": "stream",
          "name": "stdout",
          "text": [
            "(9357, 15)\n"
          ]
        }
      ]
    },
    {
      "cell_type": "code",
      "source": [
        "features = list(df.columns)\n",
        "features.remove('Date')\n",
        "features.remove('Time')\n",
        "features.remove('C6H6(GT)')\n",
        "\n",
        "print(features)"
      ],
      "metadata": {
        "colab": {
          "base_uri": "https://localhost:8080/"
        },
        "id": "wq3Ciw6GUoDE",
        "outputId": "b1128f9c-37d3-48a0-e75b-3c57a5fcfc7c"
      },
      "execution_count": null,
      "outputs": [
        {
          "output_type": "stream",
          "name": "stdout",
          "text": [
            "['CO(GT)', 'PT08.S1(CO)', 'NMHC(GT)', 'PT08.S2(NMHC)', 'NOx(GT)', 'PT08.S3(NOx)', 'NO2(GT)', 'PT08.S4(NO2)', 'PT08.S5(O3)', 'T', 'RH', 'AH']\n"
          ]
        }
      ]
    },
    {
      "cell_type": "code",
      "source": [
        "X = df[features]\n",
        "y = df['C6H6(GT)']\n",
        "# split dataset to 60% training and 40% testing\n",
        "X_train, X_test, y_train, y_test = train_test_split(X,y, test_size=0.4, random_state=0)\n",
        "print(X_train.shape, y_train.shape)"
      ],
      "metadata": {
        "colab": {
          "base_uri": "https://localhost:8080/"
        },
        "id": "AT-O3-m8Uu7x",
        "outputId": "5455e915-0404-4504-93bb-a030758bf258"
      },
      "execution_count": null,
      "outputs": [
        {
          "output_type": "stream",
          "name": "stdout",
          "text": [
            "(5614, 12) (5614,)\n"
          ]
        }
      ]
    },
    {
      "cell_type": "code",
      "source": [
        "X = df[features]\n",
        "y = df['C6H6(GT)']"
      ],
      "metadata": {
        "id": "qJ7BrUaUU1un"
      },
      "execution_count": null,
      "outputs": []
    },
    {
      "cell_type": "code",
      "source": [
        "# feature normalization using mean normalization -> If the values of features vary in multiple\n",
        "def feature_normalize(X):\n",
        "  mean = np.mean(X, axis=0)\n",
        "  std = np.std(X, axis=0, ddof=1) # also can use range(max - min) \n",
        "  x_norm = (X - mean)/std\n",
        "  return x_norm, mean, std"
      ],
      "metadata": {
        "id": "A2zKcBd8X46H"
      },
      "execution_count": null,
      "outputs": []
    },
    {
      "cell_type": "code",
      "source": [
        "X, x_mean, std = feature_normalize(X)\n",
        "n_mean = np.mean(X, axis = 0) # mean\n",
        "n_std = np.std(X, axis=0, ddof=1)"
      ],
      "metadata": {
        "id": "MmrJDNcmrARr"
      },
      "execution_count": null,
      "outputs": []
    },
    {
      "cell_type": "code",
      "source": [
        "X = np.hstack((np.ones((X.shape[0], 1)), X))\n",
        "print(f\"Final dataset without labels: {X}\")"
      ],
      "metadata": {
        "colab": {
          "base_uri": "https://localhost:8080/"
        },
        "id": "oOa1ROA1sIDJ",
        "outputId": "5d6810ad-07ff-4cf4-b3a8-39d651aade84"
      },
      "execution_count": null,
      "outputs": [
        {
          "output_type": "stream",
          "name": "stdout",
          "text": [
            "Final dataset without labels: [[ 1.          0.47397457  0.94293237 ...  0.08845774  0.18382133\n",
            "   0.19487051]\n",
            " [ 1.          0.4662483   0.73676725 ...  0.08151388  0.16039122\n",
            "   0.19404181]\n",
            " [ 1.          0.46882372  1.07026965 ...  0.04910919  0.28339931\n",
            "   0.19467552]\n",
            " ...\n",
            " [ 1.          0.47139915  0.28199125 ...  0.3963023  -0.41364652\n",
            "   0.19186358]\n",
            " [ 1.          0.46753601 -0.13943451 ...  0.42870699 -0.50736696\n",
            "   0.18861292]\n",
            " [ 1.          0.46882372  0.06673061 ...  0.43333623 -0.515177\n",
            "   0.18832814]]\n"
          ]
        }
      ]
    },
    {
      "cell_type": "code",
      "source": [
        "# cost function\n",
        "def compute_cost(X, y, w):\n",
        "  m, n = X.shape\n",
        "  predictions = X.dot(w)\n",
        "  errors = np.subtract(predictions, y)\n",
        "  mse = np.square(errors) # more sophisticated (mean square error)\n",
        "  J = 1/(2 * m)*np.sum(mse)\n",
        "  return J\n",
        "\n",
        "def gradient_descent(X, y, w, alpha=0.15, iterations=400):\n",
        "  cost_history = np.zeros(iterations)\n",
        "  m, n = X.shape\n",
        "  for i in range(iterations):\n",
        "    predictions = X.dot(w)\n",
        "    errors = np.subtract(predictions, y)\n",
        "    sum_delta = (alpha / m) * X.transpose().dot(errors); # derivative of loss function\n",
        "    w = w - sum_delta;\n",
        "\n",
        "    cost_history[i] = compute_cost(X, y, w)\n",
        "  return w, cost_history"
      ],
      "metadata": {
        "id": "UYPzU_M1sXew"
      },
      "execution_count": null,
      "outputs": []
    },
    {
      "cell_type": "code",
      "source": [
        "# 60% training and 40% test\n",
        "X_train, X_test, y_train, y_test = train_test_split(X, y, test_size=0.4, random_state=0)\n",
        "w = np.zeros(X.shape[1])\n",
        "w, cost_history = gradient_descent(X_train, y_train, w)"
      ],
      "metadata": {
        "id": "-lsBPd37unn8"
      },
      "execution_count": null,
      "outputs": []
    },
    {
      "cell_type": "code",
      "source": [
        "y_pred = X_test.dot(w)\n",
        "print(f\"Predictions: {y_pred}\")\n",
        "print(len(y_pred))"
      ],
      "metadata": {
        "colab": {
          "base_uri": "https://localhost:8080/"
        },
        "id": "YqJxo0_cvUh8",
        "outputId": "c86ec0a3-daec-47f5-c96c-b8dc9542d9d2"
      },
      "execution_count": null,
      "outputs": [
        {
          "output_type": "stream",
          "name": "stdout",
          "text": [
            "Predictions: [ 4.57700281 -1.87758104  0.93008991 ...  1.58262821 -1.36078149\n",
            "  7.16054841]\n",
            "3743\n"
          ]
        }
      ]
    },
    {
      "cell_type": "code",
      "source": [
        "mse = np.square(np.subtract(y_pred, y_test))\n",
        "r_square = 1 - (np.sum((y_test - y_pred)**2) / np.sum((y_test - np.mean(y_test))**2))"
      ],
      "metadata": {
        "id": "ZBAayaPcwGjN"
      },
      "execution_count": null,
      "outputs": []
    },
    {
      "cell_type": "code",
      "source": [
        "reg = LinearRegression().fit(X, y)\n",
        "\n",
        "print(f\"Implemented model r-square value: {r_square}\")\n",
        "print(f\"Implemented model calculated weights: {w}\\n\")\n",
        "print(f\"Inbuilt model r-square value: {reg.score(X, y)}\")\n",
        "print(f\"Inbuilt model calculated weights: {reg.coef_}\")"
      ],
      "metadata": {
        "colab": {
          "base_uri": "https://localhost:8080/"
        },
        "id": "WFmrQtDpyXPJ",
        "outputId": "02b08d0a-e8b5-4772-8afb-9385a3034bb8"
      },
      "execution_count": null,
      "outputs": [
        {
          "output_type": "stream",
          "name": "stdout",
          "text": [
            "Implemented model r-square value: 0.9984631067001972\n",
            "Implemented model calculated weights: [ 1.88368431 -0.06391879  2.05169368  0.01644706 12.07574177  0.01601769\n",
            "  3.03823305  0.04885872 -3.6538892   0.40046732 11.26032164  5.01944525\n",
            " 15.97343259]\n",
            "\n",
            "Inbuilt model r-square value: 0.9992430386100554\n",
            "Inbuilt model calculated weights: [ 0.00000000e+00 -1.43266218e-02  6.63990690e-01 -1.78862016e-01\n",
            "  9.68023626e+00  6.62775307e-01  1.33661167e+00 -5.17271103e-01\n",
            "  5.60281129e-01 -2.18244237e-01 -4.29971171e+00 -1.25214589e+00\n",
            "  3.83029533e+01]\n"
          ]
        }
      ]
    },
    {
      "cell_type": "code",
      "source": [
        "# print(f\"Cost history of train data: {cost_history}\")\n",
        "# print(len(cost_history))"
      ],
      "metadata": {
        "id": "P4Re79O8FJ6I"
      },
      "execution_count": null,
      "outputs": []
    },
    {
      "cell_type": "code",
      "source": [
        "# calculating cost_history for test data\n",
        "cost_history_test = np.zeros(400)\n",
        "w_test = np.zeros(X.shape[1])\n",
        "w_test, cost_history_test = gradient_descent(X_test, y_pred, w_test)\n",
        "# print(f\"Cost history of test data: {cost_history_test}\")\n",
        "# print(len(cost_history_test))"
      ],
      "metadata": {
        "id": "rCmk5x0KcImJ"
      },
      "execution_count": null,
      "outputs": []
    },
    {
      "cell_type": "code",
      "source": [
        "plt.plot(cost_history, label=\"train\")\n",
        "plt.plot(cost_history_test, label=\"test\")\n",
        "plt.title(\"Leaning curve\")\n",
        "plt.xlabel(\"Iterations\")\n",
        "plt.ylabel(\"Cost\")\n",
        "plt.legend()\n",
        "plt.show()"
      ],
      "metadata": {
        "colab": {
          "base_uri": "https://localhost:8080/",
          "height": 472
        },
        "id": "oXx4ydnieNVt",
        "outputId": "0bb7e439-1fe3-406f-b053-a8cb5ce5ab48"
      },
      "execution_count": null,
      "outputs": [
        {
          "output_type": "display_data",
          "data": {
            "text/plain": [
              "<Figure size 640x480 with 1 Axes>"
            ],
            "image/png": "[encoded data removed]"
          },
          "metadata": {}
        }
      ]
    },
    {
      "cell_type": "code",
      "source": [],
      "metadata": {
        "id": "GdycXYdsi2jm"
      },
      "execution_count": null,
      "outputs": []
    }
  ]
}